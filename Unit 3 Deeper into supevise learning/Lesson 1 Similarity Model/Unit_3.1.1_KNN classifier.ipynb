{
 "cells": [
  {
   "cell_type": "code",
   "execution_count": 1,
   "metadata": {
    "run_control": {
     "frozen": false,
     "read_only": false
    }
   },
   "outputs": [],
   "source": [
    "import numpy as np\n",
    "import pandas as pd\n",
    "import matplotlib.pyplot as plt\n",
    "import scipy\n",
    "import math\n",
    "import operator\n",
    "%matplotlib inline"
   ]
  },
  {
   "cell_type": "markdown",
   "metadata": {
    "run_control": {
     "frozen": false,
     "read_only": false
    }
   },
   "source": [
    "# K Nearest Neighbors Classifiers\n",
    "\n",
    "So far we've covered learning via **probability (naive Bayes)** and learning via **errors (regression)**. Here we'll cover learning via similarity. This means we **look for the datapoints that are most similar to the observation** we are trying to predict.\n",
    "\n",
    "Let's start by the simplest example: **Nearest Neighbor**.\n",
    "\n",
    "## Nearest Neighbor\n",
    "\n",
    "Let's use this example: classifying a song as either \"rock\" or \"jazz\". For this data we have measures of duration in seconds and loudness in loudness units (we're not going to be using decibels since that isn't a linear measure, which would create some problems we'll get into later)."
   ]
  },
  {
   "cell_type": "code",
   "execution_count": 2,
   "metadata": {},
   "outputs": [],
   "source": [
    "music = pd.DataFrame()\n",
    "\n",
    "#Make some data to play\n",
    "music['duration'] = [184, 134, 243, 186, 122, 197, 294, 382, 102, 264, \n",
    "                     205, 110, 307, 110, 397, 153, 190, 192, 210, 403,\n",
    "                     164, 198, 204, 253, 234, 190, 182, 401, 376, 102]\n",
    "\n",
    "music['loudness'] = [18, 34, 43, 36, 22, 9, 29, 22, 10, 24, \n",
    "                     20, 10, 17, 51, 7, 13, 19, 12, 21, 22,\n",
    "                     16, 18, 4, 23, 34, 19, 14, 11, 37, 42]\n",
    "\n",
    "# We know whether the songs in our training data are jazz\n",
    "music['jazz'] = [ 1, 0, 0, 0, 1, 1, 0, 1, 1, 0,\n",
    "                  0, 1, 1, 0, 1, 1, 0, 1, 1, 1,\n",
    "                  1, 1, 1, 1, 0, 0, 1, 1, 0, 0]\n"
   ]
  },
  {
   "cell_type": "code",
   "execution_count": 3,
   "metadata": {
    "scrolled": true
   },
   "outputs": [
    {
     "data": {
      "text/html": [
       "<div>\n",
       "<style scoped>\n",
       "    .dataframe tbody tr th:only-of-type {\n",
       "        vertical-align: middle;\n",
       "    }\n",
       "\n",
       "    .dataframe tbody tr th {\n",
       "        vertical-align: top;\n",
       "    }\n",
       "\n",
       "    .dataframe thead th {\n",
       "        text-align: right;\n",
       "    }\n",
       "</style>\n",
       "<table border=\"1\" class=\"dataframe\">\n",
       "  <thead>\n",
       "    <tr style=\"text-align: right;\">\n",
       "      <th></th>\n",
       "      <th>duration</th>\n",
       "      <th>loudness</th>\n",
       "      <th>jazz</th>\n",
       "    </tr>\n",
       "  </thead>\n",
       "  <tbody>\n",
       "    <tr>\n",
       "      <th>0</th>\n",
       "      <td>184</td>\n",
       "      <td>18</td>\n",
       "      <td>1</td>\n",
       "    </tr>\n",
       "    <tr>\n",
       "      <th>1</th>\n",
       "      <td>134</td>\n",
       "      <td>34</td>\n",
       "      <td>0</td>\n",
       "    </tr>\n",
       "    <tr>\n",
       "      <th>2</th>\n",
       "      <td>243</td>\n",
       "      <td>43</td>\n",
       "      <td>0</td>\n",
       "    </tr>\n",
       "    <tr>\n",
       "      <th>3</th>\n",
       "      <td>186</td>\n",
       "      <td>36</td>\n",
       "      <td>0</td>\n",
       "    </tr>\n",
       "    <tr>\n",
       "      <th>4</th>\n",
       "      <td>122</td>\n",
       "      <td>22</td>\n",
       "      <td>1</td>\n",
       "    </tr>\n",
       "    <tr>\n",
       "      <th>5</th>\n",
       "      <td>197</td>\n",
       "      <td>9</td>\n",
       "      <td>1</td>\n",
       "    </tr>\n",
       "    <tr>\n",
       "      <th>6</th>\n",
       "      <td>294</td>\n",
       "      <td>29</td>\n",
       "      <td>0</td>\n",
       "    </tr>\n",
       "    <tr>\n",
       "      <th>7</th>\n",
       "      <td>382</td>\n",
       "      <td>22</td>\n",
       "      <td>1</td>\n",
       "    </tr>\n",
       "    <tr>\n",
       "      <th>8</th>\n",
       "      <td>102</td>\n",
       "      <td>10</td>\n",
       "      <td>1</td>\n",
       "    </tr>\n",
       "    <tr>\n",
       "      <th>9</th>\n",
       "      <td>264</td>\n",
       "      <td>24</td>\n",
       "      <td>0</td>\n",
       "    </tr>\n",
       "    <tr>\n",
       "      <th>10</th>\n",
       "      <td>205</td>\n",
       "      <td>20</td>\n",
       "      <td>0</td>\n",
       "    </tr>\n",
       "    <tr>\n",
       "      <th>11</th>\n",
       "      <td>110</td>\n",
       "      <td>10</td>\n",
       "      <td>1</td>\n",
       "    </tr>\n",
       "    <tr>\n",
       "      <th>12</th>\n",
       "      <td>307</td>\n",
       "      <td>17</td>\n",
       "      <td>1</td>\n",
       "    </tr>\n",
       "    <tr>\n",
       "      <th>13</th>\n",
       "      <td>110</td>\n",
       "      <td>51</td>\n",
       "      <td>0</td>\n",
       "    </tr>\n",
       "    <tr>\n",
       "      <th>14</th>\n",
       "      <td>397</td>\n",
       "      <td>7</td>\n",
       "      <td>1</td>\n",
       "    </tr>\n",
       "    <tr>\n",
       "      <th>15</th>\n",
       "      <td>153</td>\n",
       "      <td>13</td>\n",
       "      <td>1</td>\n",
       "    </tr>\n",
       "    <tr>\n",
       "      <th>16</th>\n",
       "      <td>190</td>\n",
       "      <td>19</td>\n",
       "      <td>0</td>\n",
       "    </tr>\n",
       "    <tr>\n",
       "      <th>17</th>\n",
       "      <td>192</td>\n",
       "      <td>12</td>\n",
       "      <td>1</td>\n",
       "    </tr>\n",
       "    <tr>\n",
       "      <th>18</th>\n",
       "      <td>210</td>\n",
       "      <td>21</td>\n",
       "      <td>1</td>\n",
       "    </tr>\n",
       "    <tr>\n",
       "      <th>19</th>\n",
       "      <td>403</td>\n",
       "      <td>22</td>\n",
       "      <td>1</td>\n",
       "    </tr>\n",
       "    <tr>\n",
       "      <th>20</th>\n",
       "      <td>164</td>\n",
       "      <td>16</td>\n",
       "      <td>1</td>\n",
       "    </tr>\n",
       "    <tr>\n",
       "      <th>21</th>\n",
       "      <td>198</td>\n",
       "      <td>18</td>\n",
       "      <td>1</td>\n",
       "    </tr>\n",
       "    <tr>\n",
       "      <th>22</th>\n",
       "      <td>204</td>\n",
       "      <td>4</td>\n",
       "      <td>1</td>\n",
       "    </tr>\n",
       "    <tr>\n",
       "      <th>23</th>\n",
       "      <td>253</td>\n",
       "      <td>23</td>\n",
       "      <td>1</td>\n",
       "    </tr>\n",
       "    <tr>\n",
       "      <th>24</th>\n",
       "      <td>234</td>\n",
       "      <td>34</td>\n",
       "      <td>0</td>\n",
       "    </tr>\n",
       "    <tr>\n",
       "      <th>25</th>\n",
       "      <td>190</td>\n",
       "      <td>19</td>\n",
       "      <td>0</td>\n",
       "    </tr>\n",
       "    <tr>\n",
       "      <th>26</th>\n",
       "      <td>182</td>\n",
       "      <td>14</td>\n",
       "      <td>1</td>\n",
       "    </tr>\n",
       "    <tr>\n",
       "      <th>27</th>\n",
       "      <td>401</td>\n",
       "      <td>11</td>\n",
       "      <td>1</td>\n",
       "    </tr>\n",
       "    <tr>\n",
       "      <th>28</th>\n",
       "      <td>376</td>\n",
       "      <td>37</td>\n",
       "      <td>0</td>\n",
       "    </tr>\n",
       "    <tr>\n",
       "      <th>29</th>\n",
       "      <td>102</td>\n",
       "      <td>42</td>\n",
       "      <td>0</td>\n",
       "    </tr>\n",
       "  </tbody>\n",
       "</table>\n",
       "</div>"
      ],
      "text/plain": [
       "    duration  loudness  jazz\n",
       "0        184        18     1\n",
       "1        134        34     0\n",
       "2        243        43     0\n",
       "3        186        36     0\n",
       "4        122        22     1\n",
       "5        197         9     1\n",
       "6        294        29     0\n",
       "7        382        22     1\n",
       "8        102        10     1\n",
       "9        264        24     0\n",
       "10       205        20     0\n",
       "11       110        10     1\n",
       "12       307        17     1\n",
       "13       110        51     0\n",
       "14       397         7     1\n",
       "15       153        13     1\n",
       "16       190        19     0\n",
       "17       192        12     1\n",
       "18       210        21     1\n",
       "19       403        22     1\n",
       "20       164        16     1\n",
       "21       198        18     1\n",
       "22       204         4     1\n",
       "23       253        23     1\n",
       "24       234        34     0\n",
       "25       190        19     0\n",
       "26       182        14     1\n",
       "27       401        11     1\n",
       "28       376        37     0\n",
       "29       102        42     0"
      ]
     },
     "execution_count": 3,
     "metadata": {},
     "output_type": "execute_result"
    }
   ],
   "source": [
    "music"
   ]
  },
  {
   "cell_type": "code",
   "execution_count": 4,
   "metadata": {},
   "outputs": [
    {
     "data": {
      "text/plain": [
       "(30, 3)"
      ]
     },
     "execution_count": 4,
     "metadata": {},
     "output_type": "execute_result"
    }
   ],
   "source": [
    "music.shape"
   ]
  },
  {
   "cell_type": "code",
   "execution_count": 5,
   "metadata": {
    "scrolled": false
   },
   "outputs": [
    {
     "data": {
      "text/html": [
       "<div>\n",
       "<style scoped>\n",
       "    .dataframe tbody tr th:only-of-type {\n",
       "        vertical-align: middle;\n",
       "    }\n",
       "\n",
       "    .dataframe tbody tr th {\n",
       "        vertical-align: top;\n",
       "    }\n",
       "\n",
       "    .dataframe thead th {\n",
       "        text-align: right;\n",
       "    }\n",
       "</style>\n",
       "<table border=\"1\" class=\"dataframe\">\n",
       "  <thead>\n",
       "    <tr style=\"text-align: right;\">\n",
       "      <th></th>\n",
       "      <th>duration</th>\n",
       "      <th>loudness</th>\n",
       "      <th>jazz</th>\n",
       "    </tr>\n",
       "  </thead>\n",
       "  <tbody>\n",
       "    <tr>\n",
       "      <th>0</th>\n",
       "      <td>184</td>\n",
       "      <td>18</td>\n",
       "      <td>1</td>\n",
       "    </tr>\n",
       "    <tr>\n",
       "      <th>4</th>\n",
       "      <td>122</td>\n",
       "      <td>22</td>\n",
       "      <td>1</td>\n",
       "    </tr>\n",
       "    <tr>\n",
       "      <th>5</th>\n",
       "      <td>197</td>\n",
       "      <td>9</td>\n",
       "      <td>1</td>\n",
       "    </tr>\n",
       "    <tr>\n",
       "      <th>7</th>\n",
       "      <td>382</td>\n",
       "      <td>22</td>\n",
       "      <td>1</td>\n",
       "    </tr>\n",
       "    <tr>\n",
       "      <th>8</th>\n",
       "      <td>102</td>\n",
       "      <td>10</td>\n",
       "      <td>1</td>\n",
       "    </tr>\n",
       "    <tr>\n",
       "      <th>11</th>\n",
       "      <td>110</td>\n",
       "      <td>10</td>\n",
       "      <td>1</td>\n",
       "    </tr>\n",
       "    <tr>\n",
       "      <th>12</th>\n",
       "      <td>307</td>\n",
       "      <td>17</td>\n",
       "      <td>1</td>\n",
       "    </tr>\n",
       "    <tr>\n",
       "      <th>14</th>\n",
       "      <td>397</td>\n",
       "      <td>7</td>\n",
       "      <td>1</td>\n",
       "    </tr>\n",
       "    <tr>\n",
       "      <th>15</th>\n",
       "      <td>153</td>\n",
       "      <td>13</td>\n",
       "      <td>1</td>\n",
       "    </tr>\n",
       "    <tr>\n",
       "      <th>17</th>\n",
       "      <td>192</td>\n",
       "      <td>12</td>\n",
       "      <td>1</td>\n",
       "    </tr>\n",
       "    <tr>\n",
       "      <th>18</th>\n",
       "      <td>210</td>\n",
       "      <td>21</td>\n",
       "      <td>1</td>\n",
       "    </tr>\n",
       "    <tr>\n",
       "      <th>19</th>\n",
       "      <td>403</td>\n",
       "      <td>22</td>\n",
       "      <td>1</td>\n",
       "    </tr>\n",
       "    <tr>\n",
       "      <th>20</th>\n",
       "      <td>164</td>\n",
       "      <td>16</td>\n",
       "      <td>1</td>\n",
       "    </tr>\n",
       "    <tr>\n",
       "      <th>21</th>\n",
       "      <td>198</td>\n",
       "      <td>18</td>\n",
       "      <td>1</td>\n",
       "    </tr>\n",
       "    <tr>\n",
       "      <th>22</th>\n",
       "      <td>204</td>\n",
       "      <td>4</td>\n",
       "      <td>1</td>\n",
       "    </tr>\n",
       "    <tr>\n",
       "      <th>23</th>\n",
       "      <td>253</td>\n",
       "      <td>23</td>\n",
       "      <td>1</td>\n",
       "    </tr>\n",
       "    <tr>\n",
       "      <th>26</th>\n",
       "      <td>182</td>\n",
       "      <td>14</td>\n",
       "      <td>1</td>\n",
       "    </tr>\n",
       "    <tr>\n",
       "      <th>27</th>\n",
       "      <td>401</td>\n",
       "      <td>11</td>\n",
       "      <td>1</td>\n",
       "    </tr>\n",
       "  </tbody>\n",
       "</table>\n",
       "</div>"
      ],
      "text/plain": [
       "    duration  loudness  jazz\n",
       "0        184        18     1\n",
       "4        122        22     1\n",
       "5        197         9     1\n",
       "7        382        22     1\n",
       "8        102        10     1\n",
       "11       110        10     1\n",
       "12       307        17     1\n",
       "14       397         7     1\n",
       "15       153        13     1\n",
       "17       192        12     1\n",
       "18       210        21     1\n",
       "19       403        22     1\n",
       "20       164        16     1\n",
       "21       198        18     1\n",
       "22       204         4     1\n",
       "23       253        23     1\n",
       "26       182        14     1\n",
       "27       401        11     1"
      ]
     },
     "execution_count": 5,
     "metadata": {},
     "output_type": "execute_result"
    }
   ],
   "source": [
    "music[music['jazz']==1]"
   ]
  },
  {
   "cell_type": "code",
   "execution_count": 6,
   "metadata": {},
   "outputs": [
    {
     "data": {
      "text/plain": [
       "0     184\n",
       "4     122\n",
       "5     197\n",
       "7     382\n",
       "8     102\n",
       "11    110\n",
       "12    307\n",
       "14    397\n",
       "15    153\n",
       "17    192\n",
       "18    210\n",
       "19    403\n",
       "20    164\n",
       "21    198\n",
       "22    204\n",
       "23    253\n",
       "26    182\n",
       "27    401\n",
       "Name: duration, dtype: int64"
      ]
     },
     "execution_count": 6,
     "metadata": {},
     "output_type": "execute_result"
    }
   ],
   "source": [
    "music[music['jazz']==1].duration"
   ]
  },
  {
   "cell_type": "code",
   "execution_count": 7,
   "metadata": {},
   "outputs": [
    {
     "data": {
      "text/plain": [
       "0     18\n",
       "4     22\n",
       "5      9\n",
       "7     22\n",
       "8     10\n",
       "11    10\n",
       "12    17\n",
       "14     7\n",
       "15    13\n",
       "17    12\n",
       "18    21\n",
       "19    22\n",
       "20    16\n",
       "21    18\n",
       "22     4\n",
       "23    23\n",
       "26    14\n",
       "27    11\n",
       "Name: loudness, dtype: int64"
      ]
     },
     "execution_count": 7,
     "metadata": {},
     "output_type": "execute_result"
    }
   ],
   "source": [
    "music[music['jazz']==1].loudness"
   ]
  },
  {
   "cell_type": "code",
   "execution_count": 8,
   "metadata": {},
   "outputs": [
    {
     "data": {
      "text/plain": [
       "(1     134\n",
       " 2     243\n",
       " 3     186\n",
       " 6     294\n",
       " 9     264\n",
       " 10    205\n",
       " 13    110\n",
       " 16    190\n",
       " 24    234\n",
       " 25    190\n",
       " 28    376\n",
       " 29    102\n",
       " Name: duration, dtype: int64,)"
      ]
     },
     "execution_count": 8,
     "metadata": {},
     "output_type": "execute_result"
    }
   ],
   "source": [
    "music[music['jazz']==0].duration,"
   ]
  },
  {
   "cell_type": "code",
   "execution_count": 9,
   "metadata": {
    "scrolled": true
   },
   "outputs": [
    {
     "data": {
      "text/plain": [
       "(1     34\n",
       " 2     43\n",
       " 3     36\n",
       " 6     29\n",
       " 9     24\n",
       " 10    20\n",
       " 13    51\n",
       " 16    19\n",
       " 24    34\n",
       " 25    19\n",
       " 28    37\n",
       " 29    42\n",
       " Name: loudness, dtype: int64,)"
      ]
     },
     "execution_count": 9,
     "metadata": {},
     "output_type": "execute_result"
    }
   ],
   "source": [
    " music[music['jazz']==0].loudness,"
   ]
  },
  {
   "cell_type": "code",
   "execution_count": 10,
   "metadata": {},
   "outputs": [
    {
     "data": {
      "text/plain": [
       "Text(0, 0.5, 'LOUDNESS')"
      ]
     },
     "execution_count": 10,
     "metadata": {},
     "output_type": "execute_result"
    },
    {
     "data": {
      "image/png": "[encoded data removed]",
      "text/plain": [
       "<Figure size 432x288 with 1 Axes>"
      ]
     },
     "metadata": {
      "needs_background": "light"
     },
     "output_type": "display_data"
    }
   ],
   "source": [
    "#Look at the our data\n",
    "plt.scatter(\n",
    "    music[music['jazz']==1].duration, \n",
    "    music[music['jazz']==1].loudness, \n",
    "    color='red')\n",
    "\n",
    "plt.scatter(\n",
    "    music[music['jazz']==0].duration,\n",
    "    music[music['jazz']==0].loudness,\n",
    "    color = 'blue')\n",
    "\n",
    "plt.legend(['jazz', 'rock'])\n",
    "plt.title('JAZZ AND ROCK CHARACTERISTIC')\n",
    "plt.xlabel('DURATION')\n",
    "plt.ylabel('LOUDNESS')"
   ]
  },
  {
   "cell_type": "code",
   "execution_count": 11,
   "metadata": {
    "run_control": {
     "frozen": false,
     "read_only": false
    }
   },
   "outputs": [
    {
     "data": {
      "image/png": "[encoded data removed]",
      "text/plain": [
       "<Figure size 432x288 with 1 Axes>"
      ]
     },
     "metadata": {
      "needs_background": "light"
     },
     "output_type": "display_data"
    }
   ],
   "source": [
    "music = pd.DataFrame()\n",
    "\n",
    "# Some data to play with.\n",
    "music['duration'] = [184, 134, 243, 186, 122, 197, 294, 382, 102, 264, \n",
    "                     205, 110, 307, 110, 397, 153, 190, 192, 210, 403,\n",
    "                     164, 198, 204, 253, 234, 190, 182, 401, 376, 102]\n",
    "music['loudness'] = [18, 34, 43, 36, 22, 9, 29, 22, 10, 24, \n",
    "                     20, 10, 17, 51, 7, 13, 19, 12, 21, 22,\n",
    "                     16, 18, 4, 23, 34, 19, 14, 11, 37, 42]\n",
    "\n",
    "# We know whether the songs in our training data are jazz or not.\n",
    "music['jazz'] = [ 1, 0, 0, 0, 1, 1, 0, 1, 1, 0,\n",
    "                  0, 1, 1, 0, 1, 1, 0, 1, 1, 1,\n",
    "                  1, 1, 1, 1, 0, 0, 1, 1, 0, 0]\n",
    "\n",
    "\n",
    "# Look at our data.\n",
    "plt.scatter(\n",
    "    music[music['jazz'] == 1].duration,\n",
    "    music[music['jazz'] == 1].loudness,\n",
    "    color='red'\n",
    ")\n",
    "plt.scatter(\n",
    "    music[music['jazz'] == 0].duration,\n",
    "    music[music['jazz'] == 0].loudness,\n",
    "    color='blue'\n",
    ")\n",
    "plt.legend(['Jazz', 'Rock'])\n",
    "plt.title('Jazz and Rock Characteristics')\n",
    "plt.xlabel('Duration')\n",
    "plt.ylabel('Loudness')\n",
    "plt.show()"
   ]
  },
  {
   "cell_type": "markdown",
   "metadata": {
    "run_control": {
     "frozen": false,
     "read_only": false
    }
   },
   "source": [
    "The **simplest** form of a similarity model is the **Nearest Neighbor model.** This works quite simply: when trying to predict an observation, **we find the closest (or _nearest_) known observation in our training data and use that value to make our prediction.** Here we'll use the model as a classifier, the outcome of interest will be a category.\n",
    "\n",
    "To find which observation is \"nearest\" we need some kind of way to **measure distance.** Typically we use **_Euclidean distance_**, the standard distance measure that you're familiar with from geometry. With one observation in n-dimensions $(x_1, x_2, ...,x_n)$ and the other $(w_1, w_2,...,w_n)$:\n",
    "\n",
    "$$ \\sqrt{(x_1-w_1)^2 + (x_2-w_2)^2+...+(x_n-w_n)^2} $$\n",
    "\n",
    "You might recognize this formula, (taking distances, squaring them, adding the squares together, and taking the root) as a generalization of the [Pythagorean theorem](https://en.wikipedia.org/wiki/Pythagorean_theorem) into n-dimensions. You can technically define any distance measure you want, and there are times where this customization may be valuable. As a general standard, however, we'll use Euclidean distance.\n",
    "\n",
    "Now that we have a distance measure from each point in our training data to the point we're trying to predict the model can find the datapoint with the smallest distance and then apply that category to our prediction.\n",
    "\n",
    "Let's try running this model, using the SKLearn package."
   ]
  },
  {
   "cell_type": "code",
   "execution_count": 12,
   "metadata": {
    "run_control": {
     "frozen": false,
     "read_only": false
    }
   },
   "outputs": [
    {
     "data": {
      "text/plain": [
       "array([0], dtype=int64)"
      ]
     },
     "execution_count": 12,
     "metadata": {},
     "output_type": "execute_result"
    }
   ],
   "source": [
    "from sklearn.neighbors import KNeighborsClassifier\n",
    "neighbors = KNeighborsClassifier(n_neighbors=1)\n",
    "X = music[['loudness', 'duration']]\n",
    "Y = music.jazz\n",
    "neighbors.fit(X,Y)\n",
    "\n",
    "## Predict for a song with 24 loudness that's 190 seconds long.\n",
    "neighbors.predict([[24, 190]])"
   ]
  },
  {
   "cell_type": "markdown",
   "metadata": {
    "run_control": {
     "frozen": false,
     "read_only": false
    }
   },
   "source": [
    "It's as simple as that. Looks like our model is predicting that 24 loudness, 190 second long song is _not_ jazz. **All it takes to train the model is a dataframe of independent variables and a dataframe of dependent outcomes.**"
   ]
  },
  {
   "cell_type": "markdown",
   "metadata": {
    "run_control": {
     "frozen": false,
     "read_only": false
    }
   },
   "source": [
    "You'll note that for this example, we used the `KNeighborsClassifier` method from SKLearn. This is because Nearest Neighbor is a simplification of K-Nearest Neighbors. The jump, however, isn't that far.\n",
    "\n",
    "## K-Nearest Neighbors\n",
    "\n",
    "**K-Nearest Neighbors** (or \"**KNN**\") is the logical extension of Nearest Neighbor. Instead of looking at just the single nearest datapoint to predict an outcome, we **look at several of the nearest neighbors**, **with $k$ representing the number of neighbors** we choose to look at. **Each of the $k$ neighbors gets to vote on what the predicted outcome should be.**\n",
    "\n",
    "This does a couple of valuable things. Firstly, it smooths out the predictions. If only one neighbor gets to influence the outcome, the model explicitly overfits to the training data. Any single outlier can create pockets of one category prediction surrounded by a sea of the other category.\n",
    "\n",
    "This also means instead of just predicting classes, we get implicit probabilities. If each of the $k$ neighbors gets a vote on the outcome, then the probability of the test example being from any given class $i$ is:\n",
    "$$ \\frac{votes_i}{k} $$\n",
    "\n",
    "And this applies for all classes present in the training set. Our example only has two classes, but this model can accommodate as many classes as the data set necessitates. To come up with a classifier prediction it simply takes the class for which that fraction is maximized.\n",
    "\n",
    "Let's expand our initial nearest neighbors model from above to a KNN with a $k$ of 5."
   ]
  },
  {
   "cell_type": "code",
   "execution_count": 13,
   "metadata": {
    "run_control": {
     "frozen": false,
     "read_only": false
    }
   },
   "outputs": [
    {
     "name": "stdout",
     "output_type": "stream",
     "text": [
      "[1]\n",
      "[[0.4 0.6]]\n"
     ]
    }
   ],
   "source": [
    "neighbors = KNeighborsClassifier(n_neighbors=5)\n",
    "X = music[['loudness', 'duration']]\n",
    "Y = music.jazz\n",
    "neighbors.fit(X,Y)\n",
    "\n",
    "## Predict for a 24 loudness, 190 seconds long song.\n",
    "print(neighbors.predict([[24, 190]]))\n",
    "print(neighbors.predict_proba([[24, 190]]))"
   ]
  },
  {
   "cell_type": "code",
   "execution_count": 14,
   "metadata": {
    "scrolled": true
   },
   "outputs": [
    {
     "data": {
      "text/html": [
       "<div>\n",
       "<style scoped>\n",
       "    .dataframe tbody tr th:only-of-type {\n",
       "        vertical-align: middle;\n",
       "    }\n",
       "\n",
       "    .dataframe tbody tr th {\n",
       "        vertical-align: top;\n",
       "    }\n",
       "\n",
       "    .dataframe thead th {\n",
       "        text-align: right;\n",
       "    }\n",
       "</style>\n",
       "<table border=\"1\" class=\"dataframe\">\n",
       "  <thead>\n",
       "    <tr style=\"text-align: right;\">\n",
       "      <th></th>\n",
       "      <th>loudness</th>\n",
       "      <th>duration</th>\n",
       "    </tr>\n",
       "  </thead>\n",
       "  <tbody>\n",
       "    <tr>\n",
       "      <th>0</th>\n",
       "      <td>18</td>\n",
       "      <td>184</td>\n",
       "    </tr>\n",
       "    <tr>\n",
       "      <th>1</th>\n",
       "      <td>34</td>\n",
       "      <td>134</td>\n",
       "    </tr>\n",
       "    <tr>\n",
       "      <th>2</th>\n",
       "      <td>43</td>\n",
       "      <td>243</td>\n",
       "    </tr>\n",
       "    <tr>\n",
       "      <th>3</th>\n",
       "      <td>36</td>\n",
       "      <td>186</td>\n",
       "    </tr>\n",
       "    <tr>\n",
       "      <th>4</th>\n",
       "      <td>22</td>\n",
       "      <td>122</td>\n",
       "    </tr>\n",
       "    <tr>\n",
       "      <th>5</th>\n",
       "      <td>9</td>\n",
       "      <td>197</td>\n",
       "    </tr>\n",
       "    <tr>\n",
       "      <th>6</th>\n",
       "      <td>29</td>\n",
       "      <td>294</td>\n",
       "    </tr>\n",
       "    <tr>\n",
       "      <th>7</th>\n",
       "      <td>22</td>\n",
       "      <td>382</td>\n",
       "    </tr>\n",
       "    <tr>\n",
       "      <th>8</th>\n",
       "      <td>10</td>\n",
       "      <td>102</td>\n",
       "    </tr>\n",
       "    <tr>\n",
       "      <th>9</th>\n",
       "      <td>24</td>\n",
       "      <td>264</td>\n",
       "    </tr>\n",
       "    <tr>\n",
       "      <th>10</th>\n",
       "      <td>20</td>\n",
       "      <td>205</td>\n",
       "    </tr>\n",
       "    <tr>\n",
       "      <th>11</th>\n",
       "      <td>10</td>\n",
       "      <td>110</td>\n",
       "    </tr>\n",
       "    <tr>\n",
       "      <th>12</th>\n",
       "      <td>17</td>\n",
       "      <td>307</td>\n",
       "    </tr>\n",
       "    <tr>\n",
       "      <th>13</th>\n",
       "      <td>51</td>\n",
       "      <td>110</td>\n",
       "    </tr>\n",
       "    <tr>\n",
       "      <th>14</th>\n",
       "      <td>7</td>\n",
       "      <td>397</td>\n",
       "    </tr>\n",
       "    <tr>\n",
       "      <th>15</th>\n",
       "      <td>13</td>\n",
       "      <td>153</td>\n",
       "    </tr>\n",
       "    <tr>\n",
       "      <th>16</th>\n",
       "      <td>19</td>\n",
       "      <td>190</td>\n",
       "    </tr>\n",
       "    <tr>\n",
       "      <th>17</th>\n",
       "      <td>12</td>\n",
       "      <td>192</td>\n",
       "    </tr>\n",
       "    <tr>\n",
       "      <th>18</th>\n",
       "      <td>21</td>\n",
       "      <td>210</td>\n",
       "    </tr>\n",
       "    <tr>\n",
       "      <th>19</th>\n",
       "      <td>22</td>\n",
       "      <td>403</td>\n",
       "    </tr>\n",
       "    <tr>\n",
       "      <th>20</th>\n",
       "      <td>16</td>\n",
       "      <td>164</td>\n",
       "    </tr>\n",
       "    <tr>\n",
       "      <th>21</th>\n",
       "      <td>18</td>\n",
       "      <td>198</td>\n",
       "    </tr>\n",
       "    <tr>\n",
       "      <th>22</th>\n",
       "      <td>4</td>\n",
       "      <td>204</td>\n",
       "    </tr>\n",
       "    <tr>\n",
       "      <th>23</th>\n",
       "      <td>23</td>\n",
       "      <td>253</td>\n",
       "    </tr>\n",
       "    <tr>\n",
       "      <th>24</th>\n",
       "      <td>34</td>\n",
       "      <td>234</td>\n",
       "    </tr>\n",
       "    <tr>\n",
       "      <th>25</th>\n",
       "      <td>19</td>\n",
       "      <td>190</td>\n",
       "    </tr>\n",
       "    <tr>\n",
       "      <th>26</th>\n",
       "      <td>14</td>\n",
       "      <td>182</td>\n",
       "    </tr>\n",
       "    <tr>\n",
       "      <th>27</th>\n",
       "      <td>11</td>\n",
       "      <td>401</td>\n",
       "    </tr>\n",
       "    <tr>\n",
       "      <th>28</th>\n",
       "      <td>37</td>\n",
       "      <td>376</td>\n",
       "    </tr>\n",
       "    <tr>\n",
       "      <th>29</th>\n",
       "      <td>42</td>\n",
       "      <td>102</td>\n",
       "    </tr>\n",
       "  </tbody>\n",
       "</table>\n",
       "</div>"
      ],
      "text/plain": [
       "    loudness  duration\n",
       "0         18       184\n",
       "1         34       134\n",
       "2         43       243\n",
       "3         36       186\n",
       "4         22       122\n",
       "5          9       197\n",
       "6         29       294\n",
       "7         22       382\n",
       "8         10       102\n",
       "9         24       264\n",
       "10        20       205\n",
       "11        10       110\n",
       "12        17       307\n",
       "13        51       110\n",
       "14         7       397\n",
       "15        13       153\n",
       "16        19       190\n",
       "17        12       192\n",
       "18        21       210\n",
       "19        22       403\n",
       "20        16       164\n",
       "21        18       198\n",
       "22         4       204\n",
       "23        23       253\n",
       "24        34       234\n",
       "25        19       190\n",
       "26        14       182\n",
       "27        11       401\n",
       "28        37       376\n",
       "29        42       102"
      ]
     },
     "execution_count": 14,
     "metadata": {},
     "output_type": "execute_result"
    }
   ],
   "source": [
    "X = music[['loudness', 'duration']]\n",
    "X"
   ]
  },
  {
   "cell_type": "markdown",
   "metadata": {
    "run_control": {
     "frozen": false,
     "read_only": false
    }
   },
   "source": [
    "Now our test prediction has changed. In using the five nearest neighbors it appears that there were **two votes for rock and three for jazz**, so it was classified as a jazz song. This is different than our simpler Nearest Neighbors model. While the closest observation was in fact rock, there are more jazz songs in the nearest $k$ neighbors than rock.\n",
    "\n",
    "We can visualize our decision bounds with something called a _mesh_. This **allows us to generate a prediction over the whole space.** Read the code below and make sure you can pull out what the individual lines do, consulting the documentation for unfamiliar methods if necessary."
   ]
  },
  {
   "cell_type": "code",
   "execution_count": null,
   "metadata": {},
   "outputs": [],
   "source": []
  },
  {
   "cell_type": "code",
   "execution_count": 15,
   "metadata": {
    "scrolled": true
   },
   "outputs": [
    {
     "data": {
      "image/png": "[encoded data removed]",
      "text/plain": [
       "<Figure size 432x288 with 1 Axes>"
      ]
     },
     "metadata": {
      "needs_background": "light"
     },
     "output_type": "display_data"
    }
   ],
   "source": [
    "#Our data converting from data frames to arrays for the mesh\n",
    "X = np.array(X)\n",
    "Y = np.array(Y)\n",
    "\n",
    "#Mesh size\n",
    "h= 4\n",
    "\n",
    "#Plot the decision boundery. We assign a color to each point in the mesh\n",
    "x_min = X[:, 0].min() - .5\n",
    "x_max = X[:, 0].max() + .5\n",
    "y_min = X[:, 1].min() - .5\n",
    "y_max = X[:, 1].max() + .5\n",
    "\n",
    "xx, yy = np.meshgrid(np.arange(x_min, x_max, h),\n",
    "                    np.arange(y_min, y_max, h))\n",
    "\n",
    "Z = neighbors.predict(np.c_[xx.ravel(), yy.ravel()])\n",
    "\n",
    "# Put the result into a color plot\n",
    "Z = Z.reshape(xx.shape)\n",
    "plt.figure(1, figsize=(6, 4))\n",
    "plt.set_cmap(plt.cm.Paired)\n",
    "plt.pcolormesh(xx, yy, Z)\n",
    "\n",
    "#Add the training points to the plot\n",
    "plt.scatter(X[:, 0], X[:, 1], c=Y)\n",
    "plt.xlabel('LOUDNESS')\n",
    "plt.ylabel('DURATION')\n",
    "plt.title('MESH VISUALIZATION')\n",
    "\n",
    "plt.xlim(xx.min(), xx.max())\n",
    "plt.ylim(yy.min(), yy.max())\n",
    "\n",
    "plt.show()\n",
    "\n"
   ]
  },
  {
   "cell_type": "code",
   "execution_count": 16,
   "metadata": {
    "scrolled": false
   },
   "outputs": [
    {
     "data": {
      "text/plain": [
       "403"
      ]
     },
     "execution_count": 16,
     "metadata": {},
     "output_type": "execute_result"
    }
   ],
   "source": [
    "X.max()"
   ]
  },
  {
   "cell_type": "code",
   "execution_count": 17,
   "metadata": {},
   "outputs": [
    {
     "data": {
      "text/plain": [
       "4"
      ]
     },
     "execution_count": 17,
     "metadata": {},
     "output_type": "execute_result"
    }
   ],
   "source": [
    "X.min()"
   ]
  },
  {
   "cell_type": "code",
   "execution_count": 18,
   "metadata": {},
   "outputs": [
    {
     "data": {
      "text/plain": [
       "4"
      ]
     },
     "execution_count": 18,
     "metadata": {},
     "output_type": "execute_result"
    }
   ],
   "source": [
    "X[:, 0].min()"
   ]
  },
  {
   "cell_type": "code",
   "execution_count": 19,
   "metadata": {},
   "outputs": [
    {
     "data": {
      "text/plain": [
       "51"
      ]
     },
     "execution_count": 19,
     "metadata": {},
     "output_type": "execute_result"
    }
   ],
   "source": [
    "X[:, 0].max()"
   ]
  },
  {
   "cell_type": "code",
   "execution_count": 20,
   "metadata": {},
   "outputs": [
    {
     "data": {
      "text/plain": [
       "102"
      ]
     },
     "execution_count": 20,
     "metadata": {},
     "output_type": "execute_result"
    }
   ],
   "source": [
    "X[:, 1].min()"
   ]
  },
  {
   "cell_type": "code",
   "execution_count": 21,
   "metadata": {},
   "outputs": [
    {
     "data": {
      "text/plain": [
       "403"
      ]
     },
     "execution_count": 21,
     "metadata": {},
     "output_type": "execute_result"
    }
   ],
   "source": [
    "X[:, 1].max()"
   ]
  },
  {
   "cell_type": "code",
   "execution_count": 22,
   "metadata": {},
   "outputs": [
    {
     "data": {
      "text/plain": [
       "array([1, 0, 0, 0, 1, 1, 0, 1, 1, 0, 0, 1, 1, 0, 1, 1, 0, 1, 1, 1, 1, 1,\n",
       "       1, 1, 0, 0, 1, 1, 0, 0], dtype=int64)"
      ]
     },
     "execution_count": 22,
     "metadata": {},
     "output_type": "execute_result"
    }
   ],
   "source": [
    "Y"
   ]
  },
  {
   "cell_type": "code",
   "execution_count": 23,
   "metadata": {},
   "outputs": [
    {
     "name": "stdout",
     "output_type": "stream",
     "text": [
      "3.5\n",
      "51.5\n",
      "101.5\n",
      "403.5\n"
     ]
    }
   ],
   "source": [
    "print(x_min )\n",
    "print(x_max )\n",
    "print(y_min )\n",
    "print(y_max )"
   ]
  },
  {
   "cell_type": "code",
   "execution_count": 24,
   "metadata": {},
   "outputs": [
    {
     "data": {
      "text/plain": [
       "array([[ 3.5,  7.5, 11.5, 15.5, 19.5, 23.5, 27.5, 31.5, 35.5, 39.5, 43.5,\n",
       "        47.5],\n",
       "       [ 3.5,  7.5, 11.5, 15.5, 19.5, 23.5, 27.5, 31.5, 35.5, 39.5, 43.5,\n",
       "        47.5],\n",
       "       [ 3.5,  7.5, 11.5, 15.5, 19.5, 23.5, 27.5, 31.5, 35.5, 39.5, 43.5,\n",
       "        47.5],\n",
       "       [ 3.5,  7.5, 11.5, 15.5, 19.5, 23.5, 27.5, 31.5, 35.5, 39.5, 43.5,\n",
       "        47.5],\n",
       "       [ 3.5,  7.5, 11.5, 15.5, 19.5, 23.5, 27.5, 31.5, 35.5, 39.5, 43.5,\n",
       "        47.5],\n",
       "       [ 3.5,  7.5, 11.5, 15.5, 19.5, 23.5, 27.5, 31.5, 35.5, 39.5, 43.5,\n",
       "        47.5],\n",
       "       [ 3.5,  7.5, 11.5, 15.5, 19.5, 23.5, 27.5, 31.5, 35.5, 39.5, 43.5,\n",
       "        47.5],\n",
       "       [ 3.5,  7.5, 11.5, 15.5, 19.5, 23.5, 27.5, 31.5, 35.5, 39.5, 43.5,\n",
       "        47.5],\n",
       "       [ 3.5,  7.5, 11.5, 15.5, 19.5, 23.5, 27.5, 31.5, 35.5, 39.5, 43.5,\n",
       "        47.5],\n",
       "       [ 3.5,  7.5, 11.5, 15.5, 19.5, 23.5, 27.5, 31.5, 35.5, 39.5, 43.5,\n",
       "        47.5],\n",
       "       [ 3.5,  7.5, 11.5, 15.5, 19.5, 23.5, 27.5, 31.5, 35.5, 39.5, 43.5,\n",
       "        47.5],\n",
       "       [ 3.5,  7.5, 11.5, 15.5, 19.5, 23.5, 27.5, 31.5, 35.5, 39.5, 43.5,\n",
       "        47.5],\n",
       "       [ 3.5,  7.5, 11.5, 15.5, 19.5, 23.5, 27.5, 31.5, 35.5, 39.5, 43.5,\n",
       "        47.5],\n",
       "       [ 3.5,  7.5, 11.5, 15.5, 19.5, 23.5, 27.5, 31.5, 35.5, 39.5, 43.5,\n",
       "        47.5],\n",
       "       [ 3.5,  7.5, 11.5, 15.5, 19.5, 23.5, 27.5, 31.5, 35.5, 39.5, 43.5,\n",
       "        47.5],\n",
       "       [ 3.5,  7.5, 11.5, 15.5, 19.5, 23.5, 27.5, 31.5, 35.5, 39.5, 43.5,\n",
       "        47.5],\n",
       "       [ 3.5,  7.5, 11.5, 15.5, 19.5, 23.5, 27.5, 31.5, 35.5, 39.5, 43.5,\n",
       "        47.5],\n",
       "       [ 3.5,  7.5, 11.5, 15.5, 19.5, 23.5, 27.5, 31.5, 35.5, 39.5, 43.5,\n",
       "        47.5],\n",
       "       [ 3.5,  7.5, 11.5, 15.5, 19.5, 23.5, 27.5, 31.5, 35.5, 39.5, 43.5,\n",
       "        47.5],\n",
       "       [ 3.5,  7.5, 11.5, 15.5, 19.5, 23.5, 27.5, 31.5, 35.5, 39.5, 43.5,\n",
       "        47.5],\n",
       "       [ 3.5,  7.5, 11.5, 15.5, 19.5, 23.5, 27.5, 31.5, 35.5, 39.5, 43.5,\n",
       "        47.5],\n",
       "       [ 3.5,  7.5, 11.5, 15.5, 19.5, 23.5, 27.5, 31.5, 35.5, 39.5, 43.5,\n",
       "        47.5],\n",
       "       [ 3.5,  7.5, 11.5, 15.5, 19.5, 23.5, 27.5, 31.5, 35.5, 39.5, 43.5,\n",
       "        47.5],\n",
       "       [ 3.5,  7.5, 11.5, 15.5, 19.5, 23.5, 27.5, 31.5, 35.5, 39.5, 43.5,\n",
       "        47.5],\n",
       "       [ 3.5,  7.5, 11.5, 15.5, 19.5, 23.5, 27.5, 31.5, 35.5, 39.5, 43.5,\n",
       "        47.5],\n",
       "       [ 3.5,  7.5, 11.5, 15.5, 19.5, 23.5, 27.5, 31.5, 35.5, 39.5, 43.5,\n",
       "        47.5],\n",
       "       [ 3.5,  7.5, 11.5, 15.5, 19.5, 23.5, 27.5, 31.5, 35.5, 39.5, 43.5,\n",
       "        47.5],\n",
       "       [ 3.5,  7.5, 11.5, 15.5, 19.5, 23.5, 27.5, 31.5, 35.5, 39.5, 43.5,\n",
       "        47.5],\n",
       "       [ 3.5,  7.5, 11.5, 15.5, 19.5, 23.5, 27.5, 31.5, 35.5, 39.5, 43.5,\n",
       "        47.5],\n",
       "       [ 3.5,  7.5, 11.5, 15.5, 19.5, 23.5, 27.5, 31.5, 35.5, 39.5, 43.5,\n",
       "        47.5],\n",
       "       [ 3.5,  7.5, 11.5, 15.5, 19.5, 23.5, 27.5, 31.5, 35.5, 39.5, 43.5,\n",
       "        47.5],\n",
       "       [ 3.5,  7.5, 11.5, 15.5, 19.5, 23.5, 27.5, 31.5, 35.5, 39.5, 43.5,\n",
       "        47.5],\n",
       "       [ 3.5,  7.5, 11.5, 15.5, 19.5, 23.5, 27.5, 31.5, 35.5, 39.5, 43.5,\n",
       "        47.5],\n",
       "       [ 3.5,  7.5, 11.5, 15.5, 19.5, 23.5, 27.5, 31.5, 35.5, 39.5, 43.5,\n",
       "        47.5],\n",
       "       [ 3.5,  7.5, 11.5, 15.5, 19.5, 23.5, 27.5, 31.5, 35.5, 39.5, 43.5,\n",
       "        47.5],\n",
       "       [ 3.5,  7.5, 11.5, 15.5, 19.5, 23.5, 27.5, 31.5, 35.5, 39.5, 43.5,\n",
       "        47.5],\n",
       "       [ 3.5,  7.5, 11.5, 15.5, 19.5, 23.5, 27.5, 31.5, 35.5, 39.5, 43.5,\n",
       "        47.5],\n",
       "       [ 3.5,  7.5, 11.5, 15.5, 19.5, 23.5, 27.5, 31.5, 35.5, 39.5, 43.5,\n",
       "        47.5],\n",
       "       [ 3.5,  7.5, 11.5, 15.5, 19.5, 23.5, 27.5, 31.5, 35.5, 39.5, 43.5,\n",
       "        47.5],\n",
       "       [ 3.5,  7.5, 11.5, 15.5, 19.5, 23.5, 27.5, 31.5, 35.5, 39.5, 43.5,\n",
       "        47.5],\n",
       "       [ 3.5,  7.5, 11.5, 15.5, 19.5, 23.5, 27.5, 31.5, 35.5, 39.5, 43.5,\n",
       "        47.5],\n",
       "       [ 3.5,  7.5, 11.5, 15.5, 19.5, 23.5, 27.5, 31.5, 35.5, 39.5, 43.5,\n",
       "        47.5],\n",
       "       [ 3.5,  7.5, 11.5, 15.5, 19.5, 23.5, 27.5, 31.5, 35.5, 39.5, 43.5,\n",
       "        47.5],\n",
       "       [ 3.5,  7.5, 11.5, 15.5, 19.5, 23.5, 27.5, 31.5, 35.5, 39.5, 43.5,\n",
       "        47.5],\n",
       "       [ 3.5,  7.5, 11.5, 15.5, 19.5, 23.5, 27.5, 31.5, 35.5, 39.5, 43.5,\n",
       "        47.5],\n",
       "       [ 3.5,  7.5, 11.5, 15.5, 19.5, 23.5, 27.5, 31.5, 35.5, 39.5, 43.5,\n",
       "        47.5],\n",
       "       [ 3.5,  7.5, 11.5, 15.5, 19.5, 23.5, 27.5, 31.5, 35.5, 39.5, 43.5,\n",
       "        47.5],\n",
       "       [ 3.5,  7.5, 11.5, 15.5, 19.5, 23.5, 27.5, 31.5, 35.5, 39.5, 43.5,\n",
       "        47.5],\n",
       "       [ 3.5,  7.5, 11.5, 15.5, 19.5, 23.5, 27.5, 31.5, 35.5, 39.5, 43.5,\n",
       "        47.5],\n",
       "       [ 3.5,  7.5, 11.5, 15.5, 19.5, 23.5, 27.5, 31.5, 35.5, 39.5, 43.5,\n",
       "        47.5],\n",
       "       [ 3.5,  7.5, 11.5, 15.5, 19.5, 23.5, 27.5, 31.5, 35.5, 39.5, 43.5,\n",
       "        47.5],\n",
       "       [ 3.5,  7.5, 11.5, 15.5, 19.5, 23.5, 27.5, 31.5, 35.5, 39.5, 43.5,\n",
       "        47.5],\n",
       "       [ 3.5,  7.5, 11.5, 15.5, 19.5, 23.5, 27.5, 31.5, 35.5, 39.5, 43.5,\n",
       "        47.5],\n",
       "       [ 3.5,  7.5, 11.5, 15.5, 19.5, 23.5, 27.5, 31.5, 35.5, 39.5, 43.5,\n",
       "        47.5],\n",
       "       [ 3.5,  7.5, 11.5, 15.5, 19.5, 23.5, 27.5, 31.5, 35.5, 39.5, 43.5,\n",
       "        47.5],\n",
       "       [ 3.5,  7.5, 11.5, 15.5, 19.5, 23.5, 27.5, 31.5, 35.5, 39.5, 43.5,\n",
       "        47.5],\n",
       "       [ 3.5,  7.5, 11.5, 15.5, 19.5, 23.5, 27.5, 31.5, 35.5, 39.5, 43.5,\n",
       "        47.5],\n",
       "       [ 3.5,  7.5, 11.5, 15.5, 19.5, 23.5, 27.5, 31.5, 35.5, 39.5, 43.5,\n",
       "        47.5],\n",
       "       [ 3.5,  7.5, 11.5, 15.5, 19.5, 23.5, 27.5, 31.5, 35.5, 39.5, 43.5,\n",
       "        47.5],\n",
       "       [ 3.5,  7.5, 11.5, 15.5, 19.5, 23.5, 27.5, 31.5, 35.5, 39.5, 43.5,\n",
       "        47.5],\n",
       "       [ 3.5,  7.5, 11.5, 15.5, 19.5, 23.5, 27.5, 31.5, 35.5, 39.5, 43.5,\n",
       "        47.5],\n",
       "       [ 3.5,  7.5, 11.5, 15.5, 19.5, 23.5, 27.5, 31.5, 35.5, 39.5, 43.5,\n",
       "        47.5],\n",
       "       [ 3.5,  7.5, 11.5, 15.5, 19.5, 23.5, 27.5, 31.5, 35.5, 39.5, 43.5,\n",
       "        47.5],\n",
       "       [ 3.5,  7.5, 11.5, 15.5, 19.5, 23.5, 27.5, 31.5, 35.5, 39.5, 43.5,\n",
       "        47.5],\n",
       "       [ 3.5,  7.5, 11.5, 15.5, 19.5, 23.5, 27.5, 31.5, 35.5, 39.5, 43.5,\n",
       "        47.5],\n",
       "       [ 3.5,  7.5, 11.5, 15.5, 19.5, 23.5, 27.5, 31.5, 35.5, 39.5, 43.5,\n",
       "        47.5],\n",
       "       [ 3.5,  7.5, 11.5, 15.5, 19.5, 23.5, 27.5, 31.5, 35.5, 39.5, 43.5,\n",
       "        47.5],\n",
       "       [ 3.5,  7.5, 11.5, 15.5, 19.5, 23.5, 27.5, 31.5, 35.5, 39.5, 43.5,\n",
       "        47.5],\n",
       "       [ 3.5,  7.5, 11.5, 15.5, 19.5, 23.5, 27.5, 31.5, 35.5, 39.5, 43.5,\n",
       "        47.5],\n",
       "       [ 3.5,  7.5, 11.5, 15.5, 19.5, 23.5, 27.5, 31.5, 35.5, 39.5, 43.5,\n",
       "        47.5],\n",
       "       [ 3.5,  7.5, 11.5, 15.5, 19.5, 23.5, 27.5, 31.5, 35.5, 39.5, 43.5,\n",
       "        47.5],\n",
       "       [ 3.5,  7.5, 11.5, 15.5, 19.5, 23.5, 27.5, 31.5, 35.5, 39.5, 43.5,\n",
       "        47.5],\n",
       "       [ 3.5,  7.5, 11.5, 15.5, 19.5, 23.5, 27.5, 31.5, 35.5, 39.5, 43.5,\n",
       "        47.5],\n",
       "       [ 3.5,  7.5, 11.5, 15.5, 19.5, 23.5, 27.5, 31.5, 35.5, 39.5, 43.5,\n",
       "        47.5],\n",
       "       [ 3.5,  7.5, 11.5, 15.5, 19.5, 23.5, 27.5, 31.5, 35.5, 39.5, 43.5,\n",
       "        47.5],\n",
       "       [ 3.5,  7.5, 11.5, 15.5, 19.5, 23.5, 27.5, 31.5, 35.5, 39.5, 43.5,\n",
       "        47.5]])"
      ]
     },
     "execution_count": 24,
     "metadata": {},
     "output_type": "execute_result"
    }
   ],
   "source": [
    "xx"
   ]
  },
  {
   "cell_type": "code",
   "execution_count": 25,
   "metadata": {
    "scrolled": true
   },
   "outputs": [
    {
     "data": {
      "text/plain": [
       "array([[101.5, 101.5, 101.5, 101.5, 101.5, 101.5, 101.5, 101.5, 101.5,\n",
       "        101.5, 101.5, 101.5],\n",
       "       [105.5, 105.5, 105.5, 105.5, 105.5, 105.5, 105.5, 105.5, 105.5,\n",
       "        105.5, 105.5, 105.5],\n",
       "       [109.5, 109.5, 109.5, 109.5, 109.5, 109.5, 109.5, 109.5, 109.5,\n",
       "        109.5, 109.5, 109.5],\n",
       "       [113.5, 113.5, 113.5, 113.5, 113.5, 113.5, 113.5, 113.5, 113.5,\n",
       "        113.5, 113.5, 113.5],\n",
       "       [117.5, 117.5, 117.5, 117.5, 117.5, 117.5, 117.5, 117.5, 117.5,\n",
       "        117.5, 117.5, 117.5],\n",
       "       [121.5, 121.5, 121.5, 121.5, 121.5, 121.5, 121.5, 121.5, 121.5,\n",
       "        121.5, 121.5, 121.5],\n",
       "       [125.5, 125.5, 125.5, 125.5, 125.5, 125.5, 125.5, 125.5, 125.5,\n",
       "        125.5, 125.5, 125.5],\n",
       "       [129.5, 129.5, 129.5, 129.5, 129.5, 129.5, 129.5, 129.5, 129.5,\n",
       "        129.5, 129.5, 129.5],\n",
       "       [133.5, 133.5, 133.5, 133.5, 133.5, 133.5, 133.5, 133.5, 133.5,\n",
       "        133.5, 133.5, 133.5],\n",
       "       [137.5, 137.5, 137.5, 137.5, 137.5, 137.5, 137.5, 137.5, 137.5,\n",
       "        137.5, 137.5, 137.5],\n",
       "       [141.5, 141.5, 141.5, 141.5, 141.5, 141.5, 141.5, 141.5, 141.5,\n",
       "        141.5, 141.5, 141.5],\n",
       "       [145.5, 145.5, 145.5, 145.5, 145.5, 145.5, 145.5, 145.5, 145.5,\n",
       "        145.5, 145.5, 145.5],\n",
       "       [149.5, 149.5, 149.5, 149.5, 149.5, 149.5, 149.5, 149.5, 149.5,\n",
       "        149.5, 149.5, 149.5],\n",
       "       [153.5, 153.5, 153.5, 153.5, 153.5, 153.5, 153.5, 153.5, 153.5,\n",
       "        153.5, 153.5, 153.5],\n",
       "       [157.5, 157.5, 157.5, 157.5, 157.5, 157.5, 157.5, 157.5, 157.5,\n",
       "        157.5, 157.5, 157.5],\n",
       "       [161.5, 161.5, 161.5, 161.5, 161.5, 161.5, 161.5, 161.5, 161.5,\n",
       "        161.5, 161.5, 161.5],\n",
       "       [165.5, 165.5, 165.5, 165.5, 165.5, 165.5, 165.5, 165.5, 165.5,\n",
       "        165.5, 165.5, 165.5],\n",
       "       [169.5, 169.5, 169.5, 169.5, 169.5, 169.5, 169.5, 169.5, 169.5,\n",
       "        169.5, 169.5, 169.5],\n",
       "       [173.5, 173.5, 173.5, 173.5, 173.5, 173.5, 173.5, 173.5, 173.5,\n",
       "        173.5, 173.5, 173.5],\n",
       "       [177.5, 177.5, 177.5, 177.5, 177.5, 177.5, 177.5, 177.5, 177.5,\n",
       "        177.5, 177.5, 177.5],\n",
       "       [181.5, 181.5, 181.5, 181.5, 181.5, 181.5, 181.5, 181.5, 181.5,\n",
       "        181.5, 181.5, 181.5],\n",
       "       [185.5, 185.5, 185.5, 185.5, 185.5, 185.5, 185.5, 185.5, 185.5,\n",
       "        185.5, 185.5, 185.5],\n",
       "       [189.5, 189.5, 189.5, 189.5, 189.5, 189.5, 189.5, 189.5, 189.5,\n",
       "        189.5, 189.5, 189.5],\n",
       "       [193.5, 193.5, 193.5, 193.5, 193.5, 193.5, 193.5, 193.5, 193.5,\n",
       "        193.5, 193.5, 193.5],\n",
       "       [197.5, 197.5, 197.5, 197.5, 197.5, 197.5, 197.5, 197.5, 197.5,\n",
       "        197.5, 197.5, 197.5],\n",
       "       [201.5, 201.5, 201.5, 201.5, 201.5, 201.5, 201.5, 201.5, 201.5,\n",
       "        201.5, 201.5, 201.5],\n",
       "       [205.5, 205.5, 205.5, 205.5, 205.5, 205.5, 205.5, 205.5, 205.5,\n",
       "        205.5, 205.5, 205.5],\n",
       "       [209.5, 209.5, 209.5, 209.5, 209.5, 209.5, 209.5, 209.5, 209.5,\n",
       "        209.5, 209.5, 209.5],\n",
       "       [213.5, 213.5, 213.5, 213.5, 213.5, 213.5, 213.5, 213.5, 213.5,\n",
       "        213.5, 213.5, 213.5],\n",
       "       [217.5, 217.5, 217.5, 217.5, 217.5, 217.5, 217.5, 217.5, 217.5,\n",
       "        217.5, 217.5, 217.5],\n",
       "       [221.5, 221.5, 221.5, 221.5, 221.5, 221.5, 221.5, 221.5, 221.5,\n",
       "        221.5, 221.5, 221.5],\n",
       "       [225.5, 225.5, 225.5, 225.5, 225.5, 225.5, 225.5, 225.5, 225.5,\n",
       "        225.5, 225.5, 225.5],\n",
       "       [229.5, 229.5, 229.5, 229.5, 229.5, 229.5, 229.5, 229.5, 229.5,\n",
       "        229.5, 229.5, 229.5],\n",
       "       [233.5, 233.5, 233.5, 233.5, 233.5, 233.5, 233.5, 233.5, 233.5,\n",
       "        233.5, 233.5, 233.5],\n",
       "       [237.5, 237.5, 237.5, 237.5, 237.5, 237.5, 237.5, 237.5, 237.5,\n",
       "        237.5, 237.5, 237.5],\n",
       "       [241.5, 241.5, 241.5, 241.5, 241.5, 241.5, 241.5, 241.5, 241.5,\n",
       "        241.5, 241.5, 241.5],\n",
       "       [245.5, 245.5, 245.5, 245.5, 245.5, 245.5, 245.5, 245.5, 245.5,\n",
       "        245.5, 245.5, 245.5],\n",
       "       [249.5, 249.5, 249.5, 249.5, 249.5, 249.5, 249.5, 249.5, 249.5,\n",
       "        249.5, 249.5, 249.5],\n",
       "       [253.5, 253.5, 253.5, 253.5, 253.5, 253.5, 253.5, 253.5, 253.5,\n",
       "        253.5, 253.5, 253.5],\n",
       "       [257.5, 257.5, 257.5, 257.5, 257.5, 257.5, 257.5, 257.5, 257.5,\n",
       "        257.5, 257.5, 257.5],\n",
       "       [261.5, 261.5, 261.5, 261.5, 261.5, 261.5, 261.5, 261.5, 261.5,\n",
       "        261.5, 261.5, 261.5],\n",
       "       [265.5, 265.5, 265.5, 265.5, 265.5, 265.5, 265.5, 265.5, 265.5,\n",
       "        265.5, 265.5, 265.5],\n",
       "       [269.5, 269.5, 269.5, 269.5, 269.5, 269.5, 269.5, 269.5, 269.5,\n",
       "        269.5, 269.5, 269.5],\n",
       "       [273.5, 273.5, 273.5, 273.5, 273.5, 273.5, 273.5, 273.5, 273.5,\n",
       "        273.5, 273.5, 273.5],\n",
       "       [277.5, 277.5, 277.5, 277.5, 277.5, 277.5, 277.5, 277.5, 277.5,\n",
       "        277.5, 277.5, 277.5],\n",
       "       [281.5, 281.5, 281.5, 281.5, 281.5, 281.5, 281.5, 281.5, 281.5,\n",
       "        281.5, 281.5, 281.5],\n",
       "       [285.5, 285.5, 285.5, 285.5, 285.5, 285.5, 285.5, 285.5, 285.5,\n",
       "        285.5, 285.5, 285.5],\n",
       "       [289.5, 289.5, 289.5, 289.5, 289.5, 289.5, 289.5, 289.5, 289.5,\n",
       "        289.5, 289.5, 289.5],\n",
       "       [293.5, 293.5, 293.5, 293.5, 293.5, 293.5, 293.5, 293.5, 293.5,\n",
       "        293.5, 293.5, 293.5],\n",
       "       [297.5, 297.5, 297.5, 297.5, 297.5, 297.5, 297.5, 297.5, 297.5,\n",
       "        297.5, 297.5, 297.5],\n",
       "       [301.5, 301.5, 301.5, 301.5, 301.5, 301.5, 301.5, 301.5, 301.5,\n",
       "        301.5, 301.5, 301.5],\n",
       "       [305.5, 305.5, 305.5, 305.5, 305.5, 305.5, 305.5, 305.5, 305.5,\n",
       "        305.5, 305.5, 305.5],\n",
       "       [309.5, 309.5, 309.5, 309.5, 309.5, 309.5, 309.5, 309.5, 309.5,\n",
       "        309.5, 309.5, 309.5],\n",
       "       [313.5, 313.5, 313.5, 313.5, 313.5, 313.5, 313.5, 313.5, 313.5,\n",
       "        313.5, 313.5, 313.5],\n",
       "       [317.5, 317.5, 317.5, 317.5, 317.5, 317.5, 317.5, 317.5, 317.5,\n",
       "        317.5, 317.5, 317.5],\n",
       "       [321.5, 321.5, 321.5, 321.5, 321.5, 321.5, 321.5, 321.5, 321.5,\n",
       "        321.5, 321.5, 321.5],\n",
       "       [325.5, 325.5, 325.5, 325.5, 325.5, 325.5, 325.5, 325.5, 325.5,\n",
       "        325.5, 325.5, 325.5],\n",
       "       [329.5, 329.5, 329.5, 329.5, 329.5, 329.5, 329.5, 329.5, 329.5,\n",
       "        329.5, 329.5, 329.5],\n",
       "       [333.5, 333.5, 333.5, 333.5, 333.5, 333.5, 333.5, 333.5, 333.5,\n",
       "        333.5, 333.5, 333.5],\n",
       "       [337.5, 337.5, 337.5, 337.5, 337.5, 337.5, 337.5, 337.5, 337.5,\n",
       "        337.5, 337.5, 337.5],\n",
       "       [341.5, 341.5, 341.5, 341.5, 341.5, 341.5, 341.5, 341.5, 341.5,\n",
       "        341.5, 341.5, 341.5],\n",
       "       [345.5, 345.5, 345.5, 345.5, 345.5, 345.5, 345.5, 345.5, 345.5,\n",
       "        345.5, 345.5, 345.5],\n",
       "       [349.5, 349.5, 349.5, 349.5, 349.5, 349.5, 349.5, 349.5, 349.5,\n",
       "        349.5, 349.5, 349.5],\n",
       "       [353.5, 353.5, 353.5, 353.5, 353.5, 353.5, 353.5, 353.5, 353.5,\n",
       "        353.5, 353.5, 353.5],\n",
       "       [357.5, 357.5, 357.5, 357.5, 357.5, 357.5, 357.5, 357.5, 357.5,\n",
       "        357.5, 357.5, 357.5],\n",
       "       [361.5, 361.5, 361.5, 361.5, 361.5, 361.5, 361.5, 361.5, 361.5,\n",
       "        361.5, 361.5, 361.5],\n",
       "       [365.5, 365.5, 365.5, 365.5, 365.5, 365.5, 365.5, 365.5, 365.5,\n",
       "        365.5, 365.5, 365.5],\n",
       "       [369.5, 369.5, 369.5, 369.5, 369.5, 369.5, 369.5, 369.5, 369.5,\n",
       "        369.5, 369.5, 369.5],\n",
       "       [373.5, 373.5, 373.5, 373.5, 373.5, 373.5, 373.5, 373.5, 373.5,\n",
       "        373.5, 373.5, 373.5],\n",
       "       [377.5, 377.5, 377.5, 377.5, 377.5, 377.5, 377.5, 377.5, 377.5,\n",
       "        377.5, 377.5, 377.5],\n",
       "       [381.5, 381.5, 381.5, 381.5, 381.5, 381.5, 381.5, 381.5, 381.5,\n",
       "        381.5, 381.5, 381.5],\n",
       "       [385.5, 385.5, 385.5, 385.5, 385.5, 385.5, 385.5, 385.5, 385.5,\n",
       "        385.5, 385.5, 385.5],\n",
       "       [389.5, 389.5, 389.5, 389.5, 389.5, 389.5, 389.5, 389.5, 389.5,\n",
       "        389.5, 389.5, 389.5],\n",
       "       [393.5, 393.5, 393.5, 393.5, 393.5, 393.5, 393.5, 393.5, 393.5,\n",
       "        393.5, 393.5, 393.5],\n",
       "       [397.5, 397.5, 397.5, 397.5, 397.5, 397.5, 397.5, 397.5, 397.5,\n",
       "        397.5, 397.5, 397.5],\n",
       "       [401.5, 401.5, 401.5, 401.5, 401.5, 401.5, 401.5, 401.5, 401.5,\n",
       "        401.5, 401.5, 401.5]])"
      ]
     },
     "execution_count": 25,
     "metadata": {},
     "output_type": "execute_result"
    }
   ],
   "source": [
    "yy"
   ]
  },
  {
   "cell_type": "code",
   "execution_count": 26,
   "metadata": {},
   "outputs": [
    {
     "data": {
      "text/plain": [
       "array([[1, 1, 1, 1, 1, 1, 1, 1, 1, 1, 0, 0],\n",
       "       [1, 1, 1, 1, 1, 1, 1, 1, 1, 0, 0, 0],\n",
       "       [1, 1, 1, 1, 1, 1, 1, 1, 0, 0, 0, 0],\n",
       "       [1, 1, 1, 1, 1, 1, 1, 0, 0, 0, 0, 0],\n",
       "       [1, 1, 1, 1, 1, 1, 1, 0, 0, 0, 0, 0],\n",
       "       [1, 1, 1, 1, 1, 1, 0, 0, 0, 0, 0, 0],\n",
       "       [1, 1, 1, 1, 1, 1, 0, 0, 0, 0, 0, 0],\n",
       "       [1, 1, 1, 1, 1, 1, 1, 0, 0, 0, 0, 0],\n",
       "       [1, 1, 1, 1, 1, 1, 1, 1, 0, 0, 0, 0],\n",
       "       [1, 1, 1, 1, 1, 1, 1, 1, 1, 1, 0, 0],\n",
       "       [1, 1, 1, 1, 1, 1, 1, 1, 1, 1, 1, 1],\n",
       "       [1, 1, 1, 1, 1, 1, 1, 1, 1, 1, 1, 1],\n",
       "       [1, 1, 1, 1, 1, 1, 1, 1, 1, 1, 1, 1],\n",
       "       [1, 1, 1, 1, 1, 1, 1, 1, 1, 1, 1, 1],\n",
       "       [1, 1, 1, 1, 1, 1, 1, 1, 1, 1, 1, 1],\n",
       "       [1, 1, 1, 1, 1, 1, 1, 1, 1, 1, 1, 1],\n",
       "       [1, 1, 1, 1, 1, 1, 1, 1, 1, 1, 1, 1],\n",
       "       [1, 1, 1, 1, 1, 1, 1, 1, 1, 1, 0, 0],\n",
       "       [1, 1, 1, 1, 1, 1, 1, 1, 1, 0, 0, 0],\n",
       "       [1, 1, 1, 1, 1, 0, 0, 0, 0, 0, 0, 0],\n",
       "       [1, 1, 1, 1, 1, 0, 0, 0, 0, 0, 0, 0],\n",
       "       [1, 1, 1, 1, 1, 0, 0, 0, 0, 0, 0, 0],\n",
       "       [1, 1, 1, 1, 1, 1, 0, 0, 0, 0, 0, 0],\n",
       "       [1, 1, 1, 1, 1, 1, 0, 0, 0, 0, 0, 0],\n",
       "       [1, 1, 1, 1, 0, 0, 0, 0, 0, 0, 0, 0],\n",
       "       [1, 1, 1, 1, 1, 0, 0, 0, 0, 0, 0, 0],\n",
       "       [1, 1, 1, 1, 1, 0, 0, 0, 0, 0, 0, 0],\n",
       "       [1, 1, 1, 1, 1, 1, 0, 0, 0, 0, 0, 0],\n",
       "       [1, 1, 1, 1, 1, 1, 1, 0, 0, 0, 0, 0],\n",
       "       [1, 1, 1, 1, 1, 1, 1, 0, 0, 0, 0, 0],\n",
       "       [1, 1, 1, 1, 1, 1, 0, 0, 0, 0, 0, 0],\n",
       "       [1, 1, 1, 1, 1, 0, 0, 0, 0, 0, 0, 0],\n",
       "       [1, 1, 1, 1, 0, 0, 0, 0, 0, 0, 0, 0],\n",
       "       [1, 1, 1, 0, 0, 0, 0, 0, 0, 0, 0, 0],\n",
       "       [1, 1, 0, 0, 0, 0, 0, 0, 0, 0, 0, 0],\n",
       "       [1, 0, 0, 0, 0, 0, 0, 0, 0, 0, 0, 0],\n",
       "       [0, 0, 0, 0, 0, 0, 0, 0, 0, 0, 0, 0],\n",
       "       [0, 0, 0, 0, 0, 0, 0, 0, 0, 0, 0, 0],\n",
       "       [0, 0, 0, 0, 0, 0, 0, 0, 0, 0, 0, 0],\n",
       "       [0, 0, 0, 0, 0, 0, 0, 0, 0, 0, 0, 0],\n",
       "       [0, 0, 0, 0, 0, 0, 0, 0, 0, 0, 0, 0],\n",
       "       [0, 0, 0, 0, 0, 0, 0, 0, 0, 0, 0, 0],\n",
       "       [0, 0, 0, 0, 0, 0, 0, 0, 0, 0, 0, 0],\n",
       "       [0, 0, 0, 0, 0, 0, 0, 0, 0, 0, 0, 0],\n",
       "       [0, 0, 0, 0, 0, 0, 0, 0, 0, 0, 0, 0],\n",
       "       [0, 0, 0, 0, 0, 0, 0, 0, 0, 0, 0, 0],\n",
       "       [0, 0, 0, 0, 0, 0, 0, 0, 0, 0, 0, 0],\n",
       "       [0, 0, 0, 0, 0, 0, 0, 0, 0, 0, 0, 0],\n",
       "       [0, 0, 0, 0, 0, 0, 0, 0, 0, 0, 0, 0],\n",
       "       [0, 0, 0, 0, 0, 0, 0, 0, 0, 0, 0, 0],\n",
       "       [0, 0, 0, 0, 0, 0, 0, 0, 0, 0, 0, 0],\n",
       "       [0, 0, 0, 0, 0, 0, 0, 0, 0, 0, 0, 0],\n",
       "       [0, 0, 0, 0, 0, 0, 0, 0, 0, 0, 0, 0],\n",
       "       [0, 0, 0, 0, 0, 0, 0, 0, 0, 0, 0, 0],\n",
       "       [1, 0, 0, 0, 0, 0, 0, 0, 0, 0, 0, 0],\n",
       "       [0, 0, 0, 0, 0, 0, 0, 0, 0, 0, 0, 0],\n",
       "       [0, 0, 0, 0, 0, 0, 0, 0, 0, 0, 0, 0],\n",
       "       [1, 1, 0, 0, 0, 0, 0, 0, 0, 0, 0, 0],\n",
       "       [1, 1, 1, 1, 1, 1, 1, 1, 1, 0, 0, 0],\n",
       "       [1, 1, 1, 1, 1, 1, 1, 1, 1, 1, 1, 1],\n",
       "       [1, 1, 1, 1, 1, 1, 1, 1, 1, 1, 1, 1],\n",
       "       [1, 1, 1, 1, 1, 1, 1, 1, 1, 1, 1, 1],\n",
       "       [1, 1, 1, 1, 1, 1, 1, 1, 1, 1, 1, 1],\n",
       "       [1, 1, 1, 1, 1, 1, 1, 1, 1, 1, 1, 1],\n",
       "       [1, 1, 1, 1, 1, 1, 1, 1, 1, 1, 1, 1],\n",
       "       [1, 1, 1, 1, 1, 1, 1, 1, 1, 1, 1, 1],\n",
       "       [1, 1, 1, 1, 1, 1, 1, 1, 1, 1, 1, 1],\n",
       "       [1, 1, 1, 1, 1, 1, 1, 1, 1, 1, 1, 1],\n",
       "       [1, 1, 1, 1, 1, 1, 1, 1, 1, 1, 1, 1],\n",
       "       [1, 1, 1, 1, 1, 1, 1, 1, 1, 1, 1, 1],\n",
       "       [1, 1, 1, 1, 1, 1, 1, 1, 1, 1, 1, 1],\n",
       "       [1, 1, 1, 1, 1, 1, 1, 1, 1, 1, 1, 1],\n",
       "       [1, 1, 1, 1, 1, 1, 1, 1, 1, 1, 1, 1],\n",
       "       [1, 1, 1, 1, 1, 1, 1, 1, 1, 1, 1, 1],\n",
       "       [1, 1, 1, 1, 1, 1, 1, 1, 1, 1, 1, 1],\n",
       "       [1, 1, 1, 1, 1, 1, 1, 1, 1, 1, 1, 1]], dtype=int64)"
      ]
     },
     "execution_count": 26,
     "metadata": {},
     "output_type": "execute_result"
    }
   ],
   "source": [
    "Z"
   ]
  },
  {
   "cell_type": "code",
   "execution_count": null,
   "metadata": {},
   "outputs": [],
   "source": []
  },
  {
   "cell_type": "markdown",
   "metadata": {},
   "source": [
    "Looking at the visualization above, any new point that fell within a blue area would be predicted to be jazz, and any point that fell within a brown area would be predicted to be rock.\n",
    "\n",
    "The boundaries above are strangely jagged here, and we'll get into that in more detail in the next lesson.\n",
    "\n",
    "Also note that the visualization isn't completely continuous. There are an infinite number of points in this space, and we can't calculate the value for each one. That's where the mesh comes in. **We set our mesh size (`h = 4.0`) to 4.0 above, which means we calculate the value for each point in a grid where the points are spaced 4.0 away from each other.**\n",
    "\n",
    "You can make the **mesh size smaller** to get a **more continuous visualization**, but at the cost of a **more computationally demanding calculation**. In the cell below, recreate the plot above with a mesh size of `10.0`. Then reduce the mesh size until you get a plot that looks good but still renders in a reasonable amount of time. When do you get a visualization that looks acceptably continuous? When do you start to get a noticeable delay?"
   ]
  },
  {
   "cell_type": "code",
   "execution_count": 27,
   "metadata": {},
   "outputs": [
    {
     "data": {
      "image/png": "[encoded data removed]",
      "text/plain": [
       "<Figure size 432x288 with 1 Axes>"
      ]
     },
     "metadata": {
      "needs_background": "light"
     },
     "output_type": "display_data"
    }
   ],
   "source": [
    "# Play with different mesh sizes here.\n",
    "#Our data converting from data frames to arrays for the mesh\n",
    "X = np.array(X)\n",
    "Y = np.array(Y)\n",
    "\n",
    "#Mesh size\n",
    "h= 10\n",
    "\n",
    "#Plot the decision boundery. We assign a color to each point in the mesh\n",
    "x_min = X[:, 0].min() - .5\n",
    "x_max = X[:, 0].max() + .5\n",
    "y_min = X[:, 1].min() - .5\n",
    "y_max = X[:, 1].max() + .5\n",
    "\n",
    "xx, yy = np.meshgrid(np.arange(x_min, x_max, h),\n",
    "                    np.arange(y_min, y_max, h))\n",
    "\n",
    "Z = neighbors.predict(np.c_[xx.ravel(), yy.ravel()])\n",
    "\n",
    "# Put the result into a color plot\n",
    "Z = Z.reshape(xx.shape)\n",
    "plt.figure(1, figsize=(6, 4))\n",
    "plt.set_cmap(plt.cm.Paired)\n",
    "plt.pcolormesh(xx, yy, Z)\n",
    "\n",
    "#Add the training points to the plot\n",
    "plt.scatter(X[:, 0], X[:, 1], c=Y)\n",
    "plt.xlabel('LOUDNESS')\n",
    "plt.ylabel('DURATION')\n",
    "plt.title('MESH VISUALIZATION')\n",
    "\n",
    "plt.xlim(xx.min(), xx.max())\n",
    "plt.ylim(yy.min(), yy.max())\n",
    "\n",
    "plt.show()"
   ]
  },
  {
   "cell_type": "code",
   "execution_count": 28,
   "metadata": {},
   "outputs": [
    {
     "data": {
      "image/png": "[encoded data removed]",
      "text/plain": [
       "<Figure size 432x288 with 1 Axes>"
      ]
     },
     "metadata": {
      "needs_background": "light"
     },
     "output_type": "display_data"
    }
   ],
   "source": [
    "# Play with different mesh sizes here.\n",
    "#Our data converting from data frames to arrays for the mesh\n",
    "X = np.array(X)\n",
    "Y = np.array(Y)\n",
    "\n",
    "#Mesh size\n",
    "h= 40\n",
    "\n",
    "#Plot the decision boundery. We assign a color to each point in the mesh\n",
    "x_min = X[:, 0].min() - .5\n",
    "x_max = X[:, 0].max() + .5\n",
    "y_min = X[:, 1].min() - .5\n",
    "y_max = X[:, 1].max() + .5\n",
    "\n",
    "xx, yy = np.meshgrid(np.arange(x_min, x_max, h),\n",
    "                    np.arange(y_min, y_max, h))\n",
    "\n",
    "Z = neighbors.predict(np.c_[xx.ravel(), yy.ravel()])\n",
    "\n",
    "# Put the result into a color plot\n",
    "Z = Z.reshape(xx.shape)\n",
    "plt.figure(1, figsize=(6, 4))\n",
    "plt.set_cmap(plt.cm.Paired)\n",
    "plt.pcolormesh(xx, yy, Z)\n",
    "\n",
    "#Add the training points to the plot\n",
    "plt.scatter(X[:, 0], X[:, 1], c=Y)\n",
    "plt.xlabel('LOUDNESS')\n",
    "plt.ylabel('DURATION')\n",
    "plt.title('MESH VISUALIZATION')\n",
    "\n",
    "plt.xlim(xx.min(), xx.max())\n",
    "plt.ylim(yy.min(), yy.max())\n",
    "\n",
    "plt.show()"
   ]
  },
  {
   "cell_type": "code",
   "execution_count": 29,
   "metadata": {},
   "outputs": [
    {
     "data": {
      "image/png": "[encoded data removed]",
      "text/plain": [
       "<Figure size 432x288 with 1 Axes>"
      ]
     },
     "metadata": {
      "needs_background": "light"
     },
     "output_type": "display_data"
    }
   ],
   "source": [
    "#Our data converting from data frames to arrays for the mesh\n",
    "X = np.array(X)\n",
    "Y = np.array(Y)\n",
    "\n",
    "#Mesh size\n",
    "h= 1\n",
    "\n",
    "#Plot the decision boundery. We assign a color to each point in the mesh\n",
    "x_min = X[:, 0].min() - .5\n",
    "x_max = X[:, 0].max() + .5\n",
    "y_min = X[:, 1].min() - .5\n",
    "y_max = X[:, 1].max() + .5\n",
    "\n",
    "xx, yy = np.meshgrid(np.arange(x_min, x_max, h),\n",
    "                    np.arange(y_min, y_max, h))\n",
    "\n",
    "Z = neighbors.predict(np.c_[xx.ravel(), yy.ravel()])\n",
    "\n",
    "# Put the result into a color plot\n",
    "Z = Z.reshape(xx.shape)\n",
    "plt.figure(1, figsize=(6, 4))\n",
    "plt.set_cmap(plt.cm.Paired)\n",
    "plt.pcolormesh(xx, yy, Z)\n",
    "\n",
    "#Add the training points to the plot\n",
    "plt.scatter(X[:, 0], X[:, 1], c=Y)\n",
    "plt.xlabel('LOUDNESS')\n",
    "plt.ylabel('DURATION')\n",
    "plt.title('MESH VISUALIZATION')\n",
    "\n",
    "plt.xlim(xx.min(), xx.max())\n",
    "plt.ylim(yy.min(), yy.max())\n",
    "\n",
    "plt.show()"
   ]
  },
  {
   "cell_type": "markdown",
   "metadata": {
    "run_control": {
     "frozen": false,
     "read_only": false
    }
   },
   "source": [
    "Now you've built a KNN model!\n",
    "\n",
    "## Challenge: Implement the Nearest Neighbor algorithm \n",
    "\n",
    "The Nearest Neighbor algorithm is extremely simple. So simple, in fact, that you should be able to build it yourself from scratch using the Python you already know. Code a Nearest Neighbors algorithm that works for two dimensional data. You can use either arrays or dataframes to do this. Test it against the SKLearn package on the music dataset from above to ensure that it's correct. The goal here is to confirm your understanding of the model and continue to practice your Python skills. We're just expecting a brute force method here. After doing this, look up \"ball tree\" methods to see a more performant algorithm design."
   ]
  },
  {
   "cell_type": "code",
   "execution_count": 30,
   "metadata": {},
   "outputs": [],
   "source": [
    "# Defining a function which calculates euclidean distance between two data points\n",
    "def euclideanDistance(data1, data2, length):\n",
    "    distance = 0\n",
    "    for x in range(length):\n",
    "        distance += np.square(data1[x] - data2[x])\n",
    "    return np.sqrt(distance)"
   ]
  },
  {
   "cell_type": "code",
   "execution_count": 31,
   "metadata": {},
   "outputs": [],
   "source": [
    "# Defining our KNN model\n",
    "def knn(trainingSet, testInstance, k):\n",
    " \n",
    "    distances = {}\n",
    "    sort = {}\n",
    " \n",
    "    length = testInstance.shape[1]\n",
    "    \n",
    "    #### Start of STEP 3\n",
    "    # Calculating euclidean distance between each row of training data and test data\n",
    "    for x in range(len(trainingSet)):\n",
    "        \n",
    "        #### Start of STEP 3.1\n",
    "        dist = euclideanDistance(testInstance, trainingSet.iloc[x], length)\n",
    "\n",
    "        distances[x] = dist[0]\n",
    "        #### End of STEP 3.1\n",
    " \n",
    "    #### Start of STEP 3.2\n",
    "    # Sorting them on the basis of distance\n",
    "    sorted_d = sorted(distances.items(), key=operator.itemgetter(1))\n",
    "    #### End of STEP 3.2\n",
    " \n",
    "    neighbors = []\n",
    "    \n",
    "    #### Start of STEP 3.3\n",
    "    # Extracting top k neighbors\n",
    "    for x in range(k):\n",
    "        neighbors.append(sorted_d[x][0])\n",
    "    #### End of STEP 3.3\n",
    "    classVotes = {}\n",
    "    \n",
    "    #### Start of STEP 3.4\n",
    "    # Calculating the most freq class in the neighbors\n",
    "    for x in range(len(neighbors)):\n",
    "        response = trainingSet.iloc[neighbors[x]][-1]\n",
    " \n",
    "        if response in classVotes:\n",
    "            classVotes[response] += 1\n",
    "        else:\n",
    "            classVotes[response] = 1\n",
    "    #### End of STEP 3.4\n",
    "\n",
    "    #### Start of STEP 3.5\n",
    "    sortedVotes = sorted(classVotes.items(), key=operator.itemgetter(1), reverse=True)\n",
    "    return(sortedVotes[0][0], neighbors)\n",
    "    #### End of STEP 3.5\n"
   ]
  },
  {
   "cell_type": "code",
   "execution_count": 32,
   "metadata": {},
   "outputs": [],
   "source": [
    "## Predict for a song with 24 loudness that's 190 seconds long.\n",
    "testSet = [[24,190]]\n",
    "test = pd.DataFrame(testSet)\n"
   ]
  },
  {
   "cell_type": "code",
   "execution_count": 33,
   "metadata": {},
   "outputs": [
    {
     "data": {
      "text/html": [
       "<div>\n",
       "<style scoped>\n",
       "    .dataframe tbody tr th:only-of-type {\n",
       "        vertical-align: middle;\n",
       "    }\n",
       "\n",
       "    .dataframe tbody tr th {\n",
       "        vertical-align: top;\n",
       "    }\n",
       "\n",
       "    .dataframe thead th {\n",
       "        text-align: right;\n",
       "    }\n",
       "</style>\n",
       "<table border=\"1\" class=\"dataframe\">\n",
       "  <thead>\n",
       "    <tr style=\"text-align: right;\">\n",
       "      <th></th>\n",
       "      <th>0</th>\n",
       "      <th>1</th>\n",
       "    </tr>\n",
       "  </thead>\n",
       "  <tbody>\n",
       "    <tr>\n",
       "      <th>0</th>\n",
       "      <td>24</td>\n",
       "      <td>190</td>\n",
       "    </tr>\n",
       "  </tbody>\n",
       "</table>\n",
       "</div>"
      ],
      "text/plain": [
       "    0    1\n",
       "0  24  190"
      ]
     },
     "execution_count": 33,
     "metadata": {},
     "output_type": "execute_result"
    }
   ],
   "source": [
    "test"
   ]
  },
  {
   "cell_type": "code",
   "execution_count": 34,
   "metadata": {
    "scrolled": true
   },
   "outputs": [
    {
     "name": "stdout",
     "output_type": "stream",
     "text": [
      "    0    1\n",
      "0  24  190\n"
     ]
    }
   ],
   "source": [
    "print (test)"
   ]
  },
  {
   "cell_type": "code",
   "execution_count": 35,
   "metadata": {},
   "outputs": [
    {
     "data": {
      "text/html": [
       "<div>\n",
       "<style scoped>\n",
       "    .dataframe tbody tr th:only-of-type {\n",
       "        vertical-align: middle;\n",
       "    }\n",
       "\n",
       "    .dataframe tbody tr th {\n",
       "        vertical-align: top;\n",
       "    }\n",
       "\n",
       "    .dataframe thead th {\n",
       "        text-align: right;\n",
       "    }\n",
       "</style>\n",
       "<table border=\"1\" class=\"dataframe\">\n",
       "  <thead>\n",
       "    <tr style=\"text-align: right;\">\n",
       "      <th></th>\n",
       "      <th>duration</th>\n",
       "      <th>loudness</th>\n",
       "      <th>jazz</th>\n",
       "    </tr>\n",
       "  </thead>\n",
       "  <tbody>\n",
       "    <tr>\n",
       "      <th>0</th>\n",
       "      <td>184</td>\n",
       "      <td>18</td>\n",
       "      <td>1</td>\n",
       "    </tr>\n",
       "    <tr>\n",
       "      <th>1</th>\n",
       "      <td>134</td>\n",
       "      <td>34</td>\n",
       "      <td>0</td>\n",
       "    </tr>\n",
       "    <tr>\n",
       "      <th>2</th>\n",
       "      <td>243</td>\n",
       "      <td>43</td>\n",
       "      <td>0</td>\n",
       "    </tr>\n",
       "    <tr>\n",
       "      <th>3</th>\n",
       "      <td>186</td>\n",
       "      <td>36</td>\n",
       "      <td>0</td>\n",
       "    </tr>\n",
       "    <tr>\n",
       "      <th>4</th>\n",
       "      <td>122</td>\n",
       "      <td>22</td>\n",
       "      <td>1</td>\n",
       "    </tr>\n",
       "  </tbody>\n",
       "</table>\n",
       "</div>"
      ],
      "text/plain": [
       "   duration  loudness  jazz\n",
       "0       184        18     1\n",
       "1       134        34     0\n",
       "2       243        43     0\n",
       "3       186        36     0\n",
       "4       122        22     1"
      ]
     },
     "execution_count": 35,
     "metadata": {},
     "output_type": "execute_result"
    }
   ],
   "source": [
    "music.head()"
   ]
  },
  {
   "cell_type": "code",
   "execution_count": 36,
   "metadata": {},
   "outputs": [
    {
     "name": "stdout",
     "output_type": "stream",
     "text": [
      "0\n"
     ]
    }
   ],
   "source": [
    "#### Start of STEP 2\n",
    "# Setting number of neighbors = 1\n",
    "k = 1\n",
    "#### End of STEP 2\n",
    "# Running KNN model\n",
    "result,neigh = knn(music, test, k)\n",
    "\n",
    "# Predicted class\n",
    "print(result)"
   ]
  },
  {
   "cell_type": "code",
   "execution_count": 37,
   "metadata": {},
   "outputs": [
    {
     "name": "stdout",
     "output_type": "stream",
     "text": [
      "[13]\n"
     ]
    }
   ],
   "source": [
    "# Nearest neighbor\n",
    "print(neigh)"
   ]
  },
  {
   "cell_type": "markdown",
   "metadata": {},
   "source": [
    "### Changing k to 5 to compare to sklearn model of KNN"
   ]
  },
  {
   "cell_type": "code",
   "execution_count": 38,
   "metadata": {},
   "outputs": [
    {
     "name": "stdout",
     "output_type": "stream",
     "text": [
      "0\n"
     ]
    }
   ],
   "source": [
    "#### Start of STEP 2\n",
    "# Setting number of neighbors = 5\n",
    "k = 5\n",
    "#### End of STEP 2\n",
    "# Running KNN model\n",
    "result,neigh = knn(music, test, k)\n",
    "\n",
    "# Predicted class\n",
    "print(result)"
   ]
  },
  {
   "cell_type": "code",
   "execution_count": 39,
   "metadata": {},
   "outputs": [
    {
     "name": "stdout",
     "output_type": "stream",
     "text": [
      "[13, 29, 1, 4, 8]\n"
     ]
    }
   ],
   "source": [
    "# Nearest neighbor\n",
    "print(neigh)"
   ]
  },
  {
   "cell_type": "code",
   "execution_count": null,
   "metadata": {},
   "outputs": [],
   "source": []
  },
  {
   "cell_type": "code",
   "execution_count": 40,
   "metadata": {},
   "outputs": [
    {
     "name": "stdout",
     "output_type": "stream",
     "text": [
      "1 neighbor, prediction: [0]\n",
      "3 neighbors, prediction: [0]\n",
      "5 neighbors, prediction: [1]\n"
     ]
    }
   ],
   "source": [
    "# Your nearest neighbor algorithm here.\n",
    "music = pd.DataFrame()\n",
    "\n",
    "music['duration'] = [184, 134, 243, 186, 122, 197, 294, 382, 102, 264, \n",
    "                     205, 110, 307, 110, 397, 153, 190, 192, 210, 403,\n",
    "                     164, 198, 204, 253, 234, 190, 182, 401, 376, 102]\n",
    "music['loudness'] = [18, 34, 43, 36, 22, 9, 29, 22, 10, 24, \n",
    "                     20, 10, 17, 51, 7, 13, 19, 12, 21, 22,\n",
    "                     16, 18, 4, 23, 34, 19, 14, 11, 37, 42]\n",
    "\n",
    "# We know whether the songs in our training data are jazz or not.\n",
    "music['jazz'] = [ 1, 0, 0, 0, 1, 1, 0, 1, 1, 0,\n",
    "                  0, 1, 1, 0, 1, 1, 0, 1, 1, 1,\n",
    "                  1, 1, 1, 1, 0, 0, 1, 1, 0, 0]\n",
    "\n",
    "def nearest_nebor(A, B, neighbor=1):\n",
    "    # calculate the distance from each training example and assign to dist column\n",
    "    music['distance'] = np.sqrt((music['duration'] - A)**2 + (music['loudness'] - B)**2)\n",
    "\n",
    "     # sort the value by dist column, from smallest to largest\n",
    "    music_sort = music.sort_values(by=['distance'])\n",
    "    \n",
    "    # take the first N neighbor, extract the jazz column, use scipy.stats.mode \n",
    "    # to extract the mode\n",
    "    from scipy import stats\n",
    "    score = music_sort.iloc[:neighbor]['jazz']\n",
    "    return stats.mode(score)[0]\n",
    "\n",
    "\n",
    "print('1 neighbor, prediction: {}'.format(nearest_nebor(190, 24, 1)))\n",
    "print('3 neighbors, prediction: {}'.format(nearest_nebor(190, 24, 3)))\n",
    "print('5 neighbors, prediction: {}'.format(nearest_nebor(190, 24, 5)))\n",
    "\n",
    "\n",
    "\n",
    "    \n",
    "\n",
    " "
   ]
  },
  {
   "cell_type": "code",
   "execution_count": 41,
   "metadata": {
    "scrolled": true
   },
   "outputs": [
    {
     "data": {
      "text/plain": [
       "0       8.485281\n",
       "1      56.885851\n",
       "2      56.302753\n",
       "3      12.649111\n",
       "4      68.029405\n",
       "5      16.552945\n",
       "6     104.120123\n",
       "7     192.010416\n",
       "8      89.106678\n",
       "9      74.000000\n",
       "10     15.524175\n",
       "11     81.215762\n",
       "12    117.209215\n",
       "13     84.433406\n",
       "14    207.696895\n",
       "15     38.600518\n",
       "16      5.000000\n",
       "17     12.165525\n",
       "18     20.223748\n",
       "19    213.009389\n",
       "20     27.202941\n",
       "21     10.000000\n",
       "22     24.413111\n",
       "23     63.007936\n",
       "24     45.122057\n",
       "25      5.000000\n",
       "26     12.806248\n",
       "27    211.400095\n",
       "28    186.453748\n",
       "29     89.822046\n",
       "Name: distance, dtype: float64"
      ]
     },
     "execution_count": 41,
     "metadata": {},
     "output_type": "execute_result"
    }
   ],
   "source": [
    "music['distance']"
   ]
  }
 ],
 "metadata": {
  "hide_input": false,
  "kernelspec": {
   "display_name": "Python 3",
   "language": "python",
   "name": "python3"
  },
  "language_info": {
   "codemirror_mode": {
    "name": "ipython",
    "version": 3
   },
   "file_extension": ".py",
   "mimetype": "text/x-python",
   "name": "python",
   "nbconvert_exporter": "python",
   "pygments_lexer": "ipython3",
   "version": "3.7.4"
  },
  "toc": {
   "colors": {
    "hover_highlight": "#DAA520",
    "running_highlight": "#FF0000",
    "selected_highlight": "#FFD700"
   },
   "moveMenuLeft": true,
   "nav_menu": {
    "height": "86px",
    "width": "252px"
   },
   "navigate_menu": true,
   "number_sections": true,
   "sideBar": true,
   "threshold": 4,
   "toc_cell": false,
   "toc_section_display": "block",
   "toc_window_display": false
  }
 },
 "nbformat": 4,
 "nbformat_minor": 2
}
