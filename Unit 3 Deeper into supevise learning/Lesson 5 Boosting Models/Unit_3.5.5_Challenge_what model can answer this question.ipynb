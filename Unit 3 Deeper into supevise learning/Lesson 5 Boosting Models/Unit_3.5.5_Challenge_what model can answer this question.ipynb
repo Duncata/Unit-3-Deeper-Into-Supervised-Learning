{
 "cells": [
  {
   "cell_type": "markdown",
   "metadata": {},
   "source": [
    "## Challenge: what model can answer this question?\n",
    "    You now have a fairly substantial starting toolbox of supervised learning methods that you can use to tackle a host of exciting problems. To make sure all of these ideas are organized in your mind, please go through the list of problems below. For each, identify which supervised learning method(s) would be best for addressing that particular problem. Explain your reasoning and discuss your answers with your mentor.\n",
    "\n",
    "    1. Predict the running times of prospective Olympic sprinters using data from the last 20 Olympics\n",
    "        - Multiple Linear Regression, Random Forest, Gradient Boost \n",
    "        \n",
    "    2. You have more features (columns) than rows in your dataset.\n",
    "        - Random forest, PCA, Ridge or Lasso Regression \n",
    "    \n",
    "    3. Identify the most important characteristic predicting likelihood of being jailed before age 20.\n",
    "        - Naive Bayes, logistic regression, SVM, Random Forest\n",
    "    \n",
    "    4. Implement a filter to “highlight” emails that might be important to the recipient\n",
    "        - Naive bayes\n",
    "    \n",
    "    5. You have 1000+ features.\n",
    "        - PCA, Ridge or Lasso Regression, Random Forest\n",
    "    \n",
    "    6. Predict whether someone who adds items to their cart on a website will purchase the items.\n",
    "        - Naive Bayes, Logistic regression, Random Forest\n",
    "    \n",
    "    7. Your dataset dimensions are 982400 x 500\n",
    "        - PCA, Random Forest\n",
    "    \n",
    "    8. Identify faces in an image.\n",
    "        - SVM, KNN\n",
    "    \n",
    "    9 Predict which of three flavors of ice cream will be most popular with boys vs girls.\n",
    "        - Naive bayes, logistic regression, Random forest, Gradient Boosting"
   ]
  },
  {
   "cell_type": "code",
   "execution_count": null,
   "metadata": {},
   "outputs": [],
   "source": []
  }
 ],
 "metadata": {
  "kernelspec": {
   "display_name": "Python 3",
   "language": "python",
   "name": "python3"
  },
  "language_info": {
   "codemirror_mode": {
    "name": "ipython",
    "version": 3
   },
   "file_extension": ".py",
   "mimetype": "text/x-python",
   "name": "python",
   "nbconvert_exporter": "python",
   "pygments_lexer": "ipython3",
   "version": "3.7.4"
  }
 },
 "nbformat": 4,
 "nbformat_minor": 2
}
